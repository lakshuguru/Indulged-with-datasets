{
  "nbformat": 4,
  "nbformat_minor": 0,
  "metadata": {
    "colab": {
      "name": "CO2_emission-data.ipynb",
      "provenance": [],
      "collapsed_sections": [],
      "authorship_tag": "ABX9TyPowjlVrqqSJLupDx5osDa0",
      "include_colab_link": true
    },
    "kernelspec": {
      "name": "python3",
      "display_name": "Python 3"
    },
    "language_info": {
      "name": "python"
    }
  },
  "cells": [
    {
      "cell_type": "markdown",
      "metadata": {
        "id": "view-in-github",
        "colab_type": "text"
      },
      "source": [
        "<a href=\"https://colab.research.google.com/github/lakshuguru/Indulged-with-datasets/blob/main/CO2_emission_data.ipynb\" target=\"_parent\"><img src=\"https://colab.research.google.com/assets/colab-badge.svg\" alt=\"Open In Colab\"/></a>"
      ]
    },
    {
      "cell_type": "code",
      "metadata": {
        "id": "czSsCi805xNF"
      },
      "source": [
        "import pandas as pd\n",
        "import matplotlib.pyplot as plt"
      ],
      "execution_count": 1,
      "outputs": []
    },
    {
      "cell_type": "code",
      "metadata": {
        "colab": {
          "base_uri": "https://localhost:8080/",
          "height": 419
        },
        "id": "5xAmb6bY86c9",
        "outputId": "ee2ea4a8-fdb2-43f4-8605-3337778b19d6"
      },
      "source": [
        "df=pd.read_csv(\"//content//co2_emission.csv\")\n",
        "df"
      ],
      "execution_count": 2,
      "outputs": [
        {
          "output_type": "execute_result",
          "data": {
            "text/html": [
              "<div>\n",
              "<style scoped>\n",
              "    .dataframe tbody tr th:only-of-type {\n",
              "        vertical-align: middle;\n",
              "    }\n",
              "\n",
              "    .dataframe tbody tr th {\n",
              "        vertical-align: top;\n",
              "    }\n",
              "\n",
              "    .dataframe thead th {\n",
              "        text-align: right;\n",
              "    }\n",
              "</style>\n",
              "<table border=\"1\" class=\"dataframe\">\n",
              "  <thead>\n",
              "    <tr style=\"text-align: right;\">\n",
              "      <th></th>\n",
              "      <th>Entity</th>\n",
              "      <th>Code</th>\n",
              "      <th>Year</th>\n",
              "      <th>Annual CO₂ emissions (tonnes )</th>\n",
              "    </tr>\n",
              "  </thead>\n",
              "  <tbody>\n",
              "    <tr>\n",
              "      <th>0</th>\n",
              "      <td>Afghanistan</td>\n",
              "      <td>AFG</td>\n",
              "      <td>1949</td>\n",
              "      <td>14656.00</td>\n",
              "    </tr>\n",
              "    <tr>\n",
              "      <th>1</th>\n",
              "      <td>Afghanistan</td>\n",
              "      <td>AFG</td>\n",
              "      <td>1950</td>\n",
              "      <td>84272.00</td>\n",
              "    </tr>\n",
              "    <tr>\n",
              "      <th>2</th>\n",
              "      <td>Afghanistan</td>\n",
              "      <td>AFG</td>\n",
              "      <td>1951</td>\n",
              "      <td>91600.00</td>\n",
              "    </tr>\n",
              "    <tr>\n",
              "      <th>3</th>\n",
              "      <td>Afghanistan</td>\n",
              "      <td>AFG</td>\n",
              "      <td>1952</td>\n",
              "      <td>91600.00</td>\n",
              "    </tr>\n",
              "    <tr>\n",
              "      <th>4</th>\n",
              "      <td>Afghanistan</td>\n",
              "      <td>AFG</td>\n",
              "      <td>1953</td>\n",
              "      <td>106256.00</td>\n",
              "    </tr>\n",
              "    <tr>\n",
              "      <th>...</th>\n",
              "      <td>...</td>\n",
              "      <td>...</td>\n",
              "      <td>...</td>\n",
              "      <td>...</td>\n",
              "    </tr>\n",
              "    <tr>\n",
              "      <th>20848</th>\n",
              "      <td>Zimbabwe</td>\n",
              "      <td>ZWE</td>\n",
              "      <td>2013</td>\n",
              "      <td>11536239.29</td>\n",
              "    </tr>\n",
              "    <tr>\n",
              "      <th>20849</th>\n",
              "      <td>Zimbabwe</td>\n",
              "      <td>ZWE</td>\n",
              "      <td>2014</td>\n",
              "      <td>11866348.41</td>\n",
              "    </tr>\n",
              "    <tr>\n",
              "      <th>20850</th>\n",
              "      <td>Zimbabwe</td>\n",
              "      <td>ZWE</td>\n",
              "      <td>2015</td>\n",
              "      <td>10907603.94</td>\n",
              "    </tr>\n",
              "    <tr>\n",
              "      <th>20851</th>\n",
              "      <td>Zimbabwe</td>\n",
              "      <td>ZWE</td>\n",
              "      <td>2016</td>\n",
              "      <td>9932649.88</td>\n",
              "    </tr>\n",
              "    <tr>\n",
              "      <th>20852</th>\n",
              "      <td>Zimbabwe</td>\n",
              "      <td>ZWE</td>\n",
              "      <td>2017</td>\n",
              "      <td>10397718.47</td>\n",
              "    </tr>\n",
              "  </tbody>\n",
              "</table>\n",
              "<p>20853 rows × 4 columns</p>\n",
              "</div>"
            ],
            "text/plain": [
              "            Entity Code  Year  Annual CO₂ emissions (tonnes )\n",
              "0      Afghanistan  AFG  1949                        14656.00\n",
              "1      Afghanistan  AFG  1950                        84272.00\n",
              "2      Afghanistan  AFG  1951                        91600.00\n",
              "3      Afghanistan  AFG  1952                        91600.00\n",
              "4      Afghanistan  AFG  1953                       106256.00\n",
              "...            ...  ...   ...                             ...\n",
              "20848     Zimbabwe  ZWE  2013                     11536239.29\n",
              "20849     Zimbabwe  ZWE  2014                     11866348.41\n",
              "20850     Zimbabwe  ZWE  2015                     10907603.94\n",
              "20851     Zimbabwe  ZWE  2016                      9932649.88\n",
              "20852     Zimbabwe  ZWE  2017                     10397718.47\n",
              "\n",
              "[20853 rows x 4 columns]"
            ]
          },
          "metadata": {},
          "execution_count": 2
        }
      ]
    },
    {
      "cell_type": "code",
      "metadata": {
        "colab": {
          "base_uri": "https://localhost:8080/"
        },
        "id": "NdN398Er9FE_",
        "outputId": "b63d2561-a8f4-4f26-a785-a3f7704157af"
      },
      "source": [
        "df.info()"
      ],
      "execution_count": 3,
      "outputs": [
        {
          "output_type": "stream",
          "name": "stdout",
          "text": [
            "<class 'pandas.core.frame.DataFrame'>\n",
            "RangeIndex: 20853 entries, 0 to 20852\n",
            "Data columns (total 4 columns):\n",
            " #   Column                          Non-Null Count  Dtype  \n",
            "---  ------                          --------------  -----  \n",
            " 0   Entity                          20853 non-null  object \n",
            " 1   Code                            18646 non-null  object \n",
            " 2   Year                            20853 non-null  int64  \n",
            " 3   Annual CO₂ emissions (tonnes )  20853 non-null  float64\n",
            "dtypes: float64(1), int64(1), object(2)\n",
            "memory usage: 651.8+ KB\n"
          ]
        }
      ]
    },
    {
      "cell_type": "code",
      "metadata": {
        "colab": {
          "base_uri": "https://localhost:8080/",
          "height": 297
        },
        "id": "wq8BSuXo9Skh",
        "outputId": "443d296b-b275-4494-993f-4149a3d06177"
      },
      "source": [
        "df.describe()"
      ],
      "execution_count": 4,
      "outputs": [
        {
          "output_type": "execute_result",
          "data": {
            "text/html": [
              "<div>\n",
              "<style scoped>\n",
              "    .dataframe tbody tr th:only-of-type {\n",
              "        vertical-align: middle;\n",
              "    }\n",
              "\n",
              "    .dataframe tbody tr th {\n",
              "        vertical-align: top;\n",
              "    }\n",
              "\n",
              "    .dataframe thead th {\n",
              "        text-align: right;\n",
              "    }\n",
              "</style>\n",
              "<table border=\"1\" class=\"dataframe\">\n",
              "  <thead>\n",
              "    <tr style=\"text-align: right;\">\n",
              "      <th></th>\n",
              "      <th>Year</th>\n",
              "      <th>Annual CO₂ emissions (tonnes )</th>\n",
              "    </tr>\n",
              "  </thead>\n",
              "  <tbody>\n",
              "    <tr>\n",
              "      <th>count</th>\n",
              "      <td>20853.000000</td>\n",
              "      <td>2.085300e+04</td>\n",
              "    </tr>\n",
              "    <tr>\n",
              "      <th>mean</th>\n",
              "      <td>1953.339424</td>\n",
              "      <td>1.930517e+08</td>\n",
              "    </tr>\n",
              "    <tr>\n",
              "      <th>std</th>\n",
              "      <td>57.903089</td>\n",
              "      <td>1.345143e+09</td>\n",
              "    </tr>\n",
              "    <tr>\n",
              "      <th>min</th>\n",
              "      <td>1751.000000</td>\n",
              "      <td>-6.255223e+08</td>\n",
              "    </tr>\n",
              "    <tr>\n",
              "      <th>25%</th>\n",
              "      <td>1932.000000</td>\n",
              "      <td>3.187680e+05</td>\n",
              "    </tr>\n",
              "    <tr>\n",
              "      <th>50%</th>\n",
              "      <td>1971.000000</td>\n",
              "      <td>3.828880e+06</td>\n",
              "    </tr>\n",
              "    <tr>\n",
              "      <th>75%</th>\n",
              "      <td>1995.000000</td>\n",
              "      <td>3.706898e+07</td>\n",
              "    </tr>\n",
              "    <tr>\n",
              "      <th>max</th>\n",
              "      <td>2017.000000</td>\n",
              "      <td>3.615326e+10</td>\n",
              "    </tr>\n",
              "  </tbody>\n",
              "</table>\n",
              "</div>"
            ],
            "text/plain": [
              "               Year  Annual CO₂ emissions (tonnes )\n",
              "count  20853.000000                    2.085300e+04\n",
              "mean    1953.339424                    1.930517e+08\n",
              "std       57.903089                    1.345143e+09\n",
              "min     1751.000000                   -6.255223e+08\n",
              "25%     1932.000000                    3.187680e+05\n",
              "50%     1971.000000                    3.828880e+06\n",
              "75%     1995.000000                    3.706898e+07\n",
              "max     2017.000000                    3.615326e+10"
            ]
          },
          "metadata": {},
          "execution_count": 4
        }
      ]
    },
    {
      "cell_type": "code",
      "metadata": {
        "colab": {
          "base_uri": "https://localhost:8080/",
          "height": 173
        },
        "id": "EqQU-fUT9b2a",
        "outputId": "631a2d9e-6f5e-42ca-82be-01c35cc49b9a"
      },
      "source": [
        "df.describe(include=['object'])"
      ],
      "execution_count": 5,
      "outputs": [
        {
          "output_type": "execute_result",
          "data": {
            "text/html": [
              "<div>\n",
              "<style scoped>\n",
              "    .dataframe tbody tr th:only-of-type {\n",
              "        vertical-align: middle;\n",
              "    }\n",
              "\n",
              "    .dataframe tbody tr th {\n",
              "        vertical-align: top;\n",
              "    }\n",
              "\n",
              "    .dataframe thead th {\n",
              "        text-align: right;\n",
              "    }\n",
              "</style>\n",
              "<table border=\"1\" class=\"dataframe\">\n",
              "  <thead>\n",
              "    <tr style=\"text-align: right;\">\n",
              "      <th></th>\n",
              "      <th>Entity</th>\n",
              "      <th>Code</th>\n",
              "    </tr>\n",
              "  </thead>\n",
              "  <tbody>\n",
              "    <tr>\n",
              "      <th>count</th>\n",
              "      <td>20853</td>\n",
              "      <td>18646</td>\n",
              "    </tr>\n",
              "    <tr>\n",
              "      <th>unique</th>\n",
              "      <td>233</td>\n",
              "      <td>222</td>\n",
              "    </tr>\n",
              "    <tr>\n",
              "      <th>top</th>\n",
              "      <td>United Kingdom</td>\n",
              "      <td>USA</td>\n",
              "    </tr>\n",
              "    <tr>\n",
              "      <th>freq</th>\n",
              "      <td>267</td>\n",
              "      <td>267</td>\n",
              "    </tr>\n",
              "  </tbody>\n",
              "</table>\n",
              "</div>"
            ],
            "text/plain": [
              "                Entity   Code\n",
              "count            20853  18646\n",
              "unique             233    222\n",
              "top     United Kingdom    USA\n",
              "freq               267    267"
            ]
          },
          "metadata": {},
          "execution_count": 5
        }
      ]
    },
    {
      "cell_type": "code",
      "metadata": {
        "colab": {
          "base_uri": "https://localhost:8080/"
        },
        "id": "G59cg23T9oLr",
        "outputId": "d60818c8-6cd5-4918-ac2f-6667581cc5cb"
      },
      "source": [
        "df.isnull().sum()"
      ],
      "execution_count": 6,
      "outputs": [
        {
          "output_type": "execute_result",
          "data": {
            "text/plain": [
              "Entity                               0\n",
              "Code                              2207\n",
              "Year                                 0\n",
              "Annual CO₂ emissions (tonnes )       0\n",
              "dtype: int64"
            ]
          },
          "metadata": {},
          "execution_count": 6
        }
      ]
    },
    {
      "cell_type": "code",
      "metadata": {
        "id": "DXU7iZnH-oL2",
        "colab": {
          "base_uri": "https://localhost:8080/"
        },
        "outputId": "c6be9a2e-d026-4eaf-bc18-32bc38f315c7"
      },
      "source": [
        "df.nunique()"
      ],
      "execution_count": 7,
      "outputs": [
        {
          "output_type": "execute_result",
          "data": {
            "text/plain": [
              "Entity                              233\n",
              "Code                                222\n",
              "Year                                267\n",
              "Annual CO₂ emissions (tonnes )    13092\n",
              "dtype: int64"
            ]
          },
          "metadata": {},
          "execution_count": 7
        }
      ]
    },
    {
      "cell_type": "code",
      "metadata": {
        "colab": {
          "base_uri": "https://localhost:8080/"
        },
        "id": "qst52sqzpVp8",
        "outputId": "045f277f-64f9-42bc-8da0-82b5d565bcff"
      },
      "source": [
        "df['Year'].value_counts()"
      ],
      "execution_count": 10,
      "outputs": [
        {
          "output_type": "execute_result",
          "data": {
            "text/plain": [
              "2007    230\n",
              "2006    229\n",
              "2008    229\n",
              "2011    229\n",
              "2002    229\n",
              "       ... \n",
              "1780     13\n",
              "1764     13\n",
              "1779     13\n",
              "1763     13\n",
              "1760     13\n",
              "Name: Year, Length: 267, dtype: int64"
            ]
          },
          "metadata": {},
          "execution_count": 10
        }
      ]
    },
    {
      "cell_type": "code",
      "metadata": {
        "colab": {
          "base_uri": "https://localhost:8080/"
        },
        "id": "rqE31uwsprAl",
        "outputId": "4001a619-fcd2-43ea-da41-97c0cbeb6951"
      },
      "source": [
        "df['Code'].value_counts()"
      ],
      "execution_count": 11,
      "outputs": [
        {
          "output_type": "execute_result",
          "data": {
            "text/plain": [
              "USA         267\n",
              "GBR         267\n",
              "OWID_WRL    267\n",
              "IND         256\n",
              "CHN         254\n",
              "           ... \n",
              "MHL          26\n",
              "KGZ          26\n",
              "TLS          16\n",
              "CXR          14\n",
              "LIE          11\n",
              "Name: Code, Length: 222, dtype: int64"
            ]
          },
          "metadata": {},
          "execution_count": 11
        }
      ]
    },
    {
      "cell_type": "code",
      "metadata": {
        "colab": {
          "base_uri": "https://localhost:8080/"
        },
        "id": "jZT68QF9p6lr",
        "outputId": "521b38ed-37c2-4ab4-e55c-03b9f4c253d1"
      },
      "source": [
        "df['Annual CO₂ emissions (tonnes )'].value_counts()"
      ],
      "execution_count": 12,
      "outputs": [
        {
          "output_type": "execute_result",
          "data": {
            "text/plain": [
              "0.000000e+00    1289\n",
              "3.664000e+03     271\n",
              "1.099200e+04     174\n",
              "4.763200e+04     129\n",
              "7.328000e+03     122\n",
              "                ... \n",
              "1.032515e+07       1\n",
              "1.963538e+06       1\n",
              "2.698885e+06       1\n",
              "3.318851e+07       1\n",
              "2.885294e+09       1\n",
              "Name: Annual CO₂ emissions (tonnes ), Length: 13092, dtype: int64"
            ]
          },
          "metadata": {},
          "execution_count": 12
        }
      ]
    },
    {
      "cell_type": "code",
      "metadata": {
        "colab": {
          "base_uri": "https://localhost:8080/"
        },
        "id": "MVFX_OtCqGK9",
        "outputId": "8a3c9193-8eb7-46f9-c5ff-1701db686a21"
      },
      "source": [
        "df['Entity'].value_counts()"
      ],
      "execution_count": 13,
      "outputs": [
        {
          "output_type": "execute_result",
          "data": {
            "text/plain": [
              "United Kingdom               267\n",
              "United States                267\n",
              "Middle East                  267\n",
              "Europe (other)               267\n",
              "Africa                       267\n",
              "                            ... \n",
              "Antarctic Fisheries           21\n",
              "Wallis and Futuna Islands     17\n",
              "Timor                         16\n",
              "Christmas Island              14\n",
              "Liechtenstein                 11\n",
              "Name: Entity, Length: 233, dtype: int64"
            ]
          },
          "metadata": {},
          "execution_count": 13
        }
      ]
    },
    {
      "cell_type": "markdown",
      "metadata": {
        "id": "CDA5hN_drbCv"
      },
      "source": [
        "1.To know the countries with max and min emission of CO2.\n",
        "\n",
        "2.To order of country's line up WRT CO2 emission.\n",
        "\n",
        "3.To visualize the 2nd query.\n"
      ]
    },
    {
      "cell_type": "code",
      "metadata": {
        "colab": {
          "base_uri": "https://localhost:8080/"
        },
        "id": "7pQTYECdqRx6",
        "outputId": "491487cc-1363-4d34-ac1e-de811d8c9259"
      },
      "source": [
        "df1=df[\"Annual CO₂ emissions (tonnes )\"].max()\n",
        "df1"
      ],
      "execution_count": 21,
      "outputs": [
        {
          "output_type": "execute_result",
          "data": {
            "text/plain": [
              "36153261645.0"
            ]
          },
          "metadata": {},
          "execution_count": 21
        }
      ]
    },
    {
      "cell_type": "code",
      "metadata": {
        "id": "byGyZHrTuoqn"
      },
      "source": [
        ""
      ],
      "execution_count": null,
      "outputs": []
    }
  ]
}